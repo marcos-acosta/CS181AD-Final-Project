{
 "cells": [
  {
   "cell_type": "markdown",
   "id": "dcdec9f1",
   "metadata": {},
   "source": [
    "## Generating note pairs with GPT2\n",
    "\n",
    "We now use the model trained in `09-gpt-model-pairs.ipynb` to generate chords."
   ]
  },
  {
   "cell_type": "code",
   "execution_count": 1,
   "id": "8c75944d",
   "metadata": {},
   "outputs": [],
   "source": [
    "from transformers import GPT2LMHeadModel, GPT2TokenizerFast, GPT2Config\n",
    "\n",
    "import torch\n",
    "from torch.utils.data import Dataset\n",
    "from tqdm import tqdm\n",
    "from pathlib import Path\n",
    "import numpy as np\n",
    "import os\n",
    "import re"
   ]
  },
  {
   "cell_type": "markdown",
   "id": "ed37d68f",
   "metadata": {},
   "source": [
    "### Load and prepare model"
   ]
  },
  {
   "cell_type": "code",
   "execution_count": 2,
   "id": "aaa4b4ee",
   "metadata": {},
   "outputs": [],
   "source": [
    "TOKENIZER_SAVEDIR = Path('tokenizers/pair-tokenizer/')\n",
    "LM_MODEL_SAVEDIR = Path('models/gpt-pairs/')\n",
    "TXT_FILES = Path('corpus-pairs-txt/')"
   ]
  },
  {
   "cell_type": "code",
   "execution_count": 3,
   "id": "e33fd651",
   "metadata": {},
   "outputs": [],
   "source": [
    "tokenizer = GPT2TokenizerFast.from_pretrained(TOKENIZER_SAVEDIR, \n",
    "                                              bos_token=\"<start>\", \n",
    "                                              eos_token=\"</start>\",\n",
    "                                              unk_token=\"<unk>\")"
   ]
  },
  {
   "cell_type": "code",
   "execution_count": 4,
   "id": "1c13c2a7",
   "metadata": {},
   "outputs": [],
   "source": [
    "pad_token_id, eos_token_id = tokenizer.encode('<pad> </start>')"
   ]
  },
  {
   "cell_type": "code",
   "execution_count": 5,
   "id": "6456ce10",
   "metadata": {},
   "outputs": [],
   "source": [
    "config = GPT2Config(\n",
    "    vocab_size=tokenizer.vocab_size,\n",
    "    n_head=12,\n",
    ")\n",
    "model = GPT2LMHeadModel(config=config).from_pretrained(str(LM_MODEL_SAVEDIR))"
   ]
  },
  {
   "cell_type": "markdown",
   "id": "4097e42f",
   "metadata": {},
   "source": [
    "### Define helper functions"
   ]
  },
  {
   "cell_type": "code",
   "execution_count": 6,
   "id": "30748479",
   "metadata": {},
   "outputs": [],
   "source": [
    "def split_into_chords(tokens):\n",
    "    sequences_joined = []\n",
    "    current = []\n",
    "    inChord = False\n",
    "    for token in tokens:\n",
    "        if token == '<chord>':\n",
    "            inChord = True\n",
    "            current.append(token)\n",
    "        elif token == '</chord>':\n",
    "            current.append(token)\n",
    "            sequences_joined.append(' '.join(current))\n",
    "            current = []\n",
    "            inChord = False\n",
    "        else:\n",
    "            if inChord:\n",
    "                current.append(token)\n",
    "            elif token == '<nochord>':\n",
    "                sequences_joined.append(token)\n",
    "            else:\n",
    "                continue\n",
    "    return sequences_joined"
   ]
  },
  {
   "cell_type": "code",
   "execution_count": 7,
   "id": "bfa2cb34",
   "metadata": {},
   "outputs": [],
   "source": [
    "step_to_index = {\n",
    "    'C': 0,\n",
    "    'D': 2,\n",
    "    'E': 4,\n",
    "    'F': 5,\n",
    "    'G': 7,\n",
    "    'A': 9,\n",
    "    'B': 11\n",
    "}\n",
    "\n",
    "def lettername_to_base_index(lettername):\n",
    "    index = step_to_index[lettername[0]]\n",
    "    if len(lettername) > 1:\n",
    "        adjuster = 1 if lettername[1] == '#' else -1\n",
    "        index += adjuster * (len(lettername) - 1)\n",
    "    return index\n",
    "\n",
    "def pitch_str_to_pitch_index(pitch_str):\n",
    "    pitch, octave = pitch_str[:-1], int(pitch_str[-1])\n",
    "    pitch_index = lettername_to_base_index(pitch) + octave * 12 - 9\n",
    "    if pitch_index < 0 or pitch_index > 87:\n",
    "        return None\n",
    "    return pitch_index\n",
    "\n",
    "def pitch_to_index_soft(pitch):\n",
    "    if pitch[0] == '<':\n",
    "        return 0\n",
    "    else:\n",
    "        return pitch_str_to_pitch_index(pitch)"
   ]
  },
  {
   "cell_type": "code",
   "execution_count": 13,
   "id": "3fb7f79d",
   "metadata": {},
   "outputs": [],
   "source": [
    "def parse_chords(chord):\n",
    "    ''' Given a bunch of note pairs, just take the unique notes given '''\n",
    "    notes_dirty = re.split(' |,', chord)\n",
    "    notes = list(set([note for note in notes_dirty if note and note not in ['<chord>', '</chord>']]))\n",
    "    return sorted(notes, key=pitch_to_index_soft)"
   ]
  },
  {
   "cell_type": "markdown",
   "id": "39d30d2d",
   "metadata": {},
   "source": [
    "### Generate example outputs"
   ]
  },
  {
   "cell_type": "code",
   "execution_count": 10,
   "id": "f377bea7",
   "metadata": {},
   "outputs": [],
   "source": [
    "input_tensors = tokenizer.encode('<start> <chord>', return_tensors=\"pt\")\n",
    "output_tokens = model.generate(input_tensors, \n",
    "                               pad_token_id=pad_token_id,\n",
    "                               eos_token_id=eos_token_id,\n",
    "                               temperature=1,\n",
    "                               max_length=256,\n",
    "                               do_sample=True)[0]\n",
    "output_tokens = tokenizer.decode(output_tokens).split()"
   ]
  },
  {
   "cell_type": "code",
   "execution_count": 12,
   "id": "47cb9dc2",
   "metadata": {
    "scrolled": true
   },
   "outputs": [
    {
     "name": "stdout",
     "output_type": "stream",
     "text": [
      "F3 C4 F4 A4\n",
      "<nochord>\n",
      "B-2 A-3 D-4 F4 B-4\n",
      "<nochord>\n",
      "B-2 A-3 D-4 F4 D-5\n",
      "B-2 D-4 F4 D-5\n",
      "B-2 A-3 D-4 F4 D-5\n",
      "B-2 A-3 F4\n",
      "B-2 A-3 D-5\n"
     ]
    }
   ],
   "source": [
    "chords = split_into_chords(output_tokens)\n",
    "for chord in chords:\n",
    "    print(' '.join(parse_chords(chord)))"
   ]
  },
  {
   "cell_type": "code",
   "execution_count": 14,
   "id": "c7200cba",
   "metadata": {},
   "outputs": [],
   "source": [
    "Path('embeddings/gpt-pairs/').mkdir(exist_ok=True)"
   ]
  },
  {
   "cell_type": "code",
   "execution_count": 15,
   "id": "7456ba2d",
   "metadata": {},
   "outputs": [
    {
     "name": "stderr",
     "output_type": "stream",
     "text": [
      "100%|███████████████████████████████████████████████████████████████████████████████████████████████| 3329/3329 [00:06<00:00, 530.51it/s]\n"
     ]
    }
   ],
   "source": [
    "embeddings = model.transformer.wte.weight\n",
    "with open('embeddings/gpt-pairs/embedding.tsv', 'w') as f:\n",
    "    for row in tqdm(embeddings):\n",
    "        f.write('\\t'.join([str(col.item()) for col in row]) + \"\\n\")"
   ]
  },
  {
   "cell_type": "code",
   "execution_count": 16,
   "id": "35648915",
   "metadata": {},
   "outputs": [],
   "source": [
    "with open('embeddings/gpt-pairs/vocab.tsv', 'w') as f:\n",
    "    for i in range(len(embeddings)):\n",
    "        f.write(tokenizer.decode([i]) + '\\n')"
   ]
  }
 ],
 "metadata": {
  "kernelspec": {
   "display_name": "Python 3 (ipykernel)",
   "language": "python",
   "name": "python3"
  },
  "language_info": {
   "codemirror_mode": {
    "name": "ipython",
    "version": 3
   },
   "file_extension": ".py",
   "mimetype": "text/x-python",
   "name": "python",
   "nbconvert_exporter": "python",
   "pygments_lexer": "ipython3",
   "version": "3.7.0"
  }
 },
 "nbformat": 4,
 "nbformat_minor": 5
}
