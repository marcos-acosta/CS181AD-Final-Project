{
 "cells": [
  {
   "cell_type": "markdown",
   "id": "5dd9de95",
   "metadata": {},
   "source": [
    "## 8. Make cleaned chord dataset\n",
    "\n",
    "This notebook converts numpy files containing cleaned numpy representations of MIDI piano tracks (cleaned meaning middle 3 octaves and transposed to the key of C) into the \"chord\" representation, in which a timestep is only included if it is \"different enough\" from the previous (defined below).\n",
    "\n",
    "In addition, I also introduce a technique to reduce the necessary vocabulary size. After determining the top `k` frequent chords, for every other chord, I determine if the notes present in that chord is a superset of a chord in the `k` most frequent tokens. If it is, then I replace it with the more common chord, since the more common chord is a simplified version of the less frequent one, so its harmonic function will be the same."
   ]
  },
  {
   "cell_type": "code",
   "execution_count": 3,
   "id": "cd852be7",
   "metadata": {},
   "outputs": [],
   "source": [
    "import numpy as np\n",
    "import os\n",
    "from pathlib import Path\n",
    "from PIL import Image\n",
    "from music21 import stream, chord, duration\n",
    "from tqdm import tqdm\n",
    "from collections import Counter\n",
    "import random\n",
    "import re\n",
    "\n",
    "import matplotlib.pyplot as plt\n",
    "from matplotlib.pyplot import figure"
   ]
  },
  {
   "cell_type": "markdown",
   "id": "9f344434",
   "metadata": {},
   "source": [
    "Define where to find cleaned numpy files from notebook `06-midi-processing.ipynb`, and where to save the chord-ified versions."
   ]
  },
  {
   "cell_type": "code",
   "execution_count": 4,
   "id": "48a2122b",
   "metadata": {},
   "outputs": [],
   "source": [
    "NP_CLEANED_FILEPATH = Path('midi-np-augmented/')\n",
    "NP_FILES = [NP_CLEANED_FILEPATH / file for file in os.listdir(NP_CLEANED_FILEPATH)]\n",
    "NP_CHORDS = Path('np-chords-augmented/')\n",
    "NP_CHORDS.mkdir(exist_ok=True)"
   ]
  },
  {
   "cell_type": "markdown",
   "id": "b066e418",
   "metadata": {},
   "source": [
    "### Define method for extracting chords\n",
    "\n",
    "Load an example and inspect:"
   ]
  },
  {
   "cell_type": "code",
   "execution_count": 5,
   "id": "aa9f7d99",
   "metadata": {},
   "outputs": [],
   "source": [
    "arr = np.load(NP_FILES[0])"
   ]
  },
  {
   "cell_type": "code",
   "execution_count": 6,
   "id": "9393f2b1",
   "metadata": {},
   "outputs": [
    {
     "data": {
      "image/png": "[encoded data removed]",
      "text/plain": [
       "<PIL.Image.Image image mode=L size=1000x36>"
      ]
     },
     "execution_count": 6,
     "metadata": {},
     "output_type": "execute_result"
    }
   ],
   "source": [
    "Image.fromarray(arr[:1000].astype(np.uint8).T * 255)"
   ]
  },
  {
   "cell_type": "code",
   "execution_count": 7,
   "id": "8a0a9448",
   "metadata": {},
   "outputs": [],
   "source": [
    "def is_valid_chord(timestep):\n",
    "    ''' Loose restriction; only has to be at least 3 notes '''\n",
    "    return np.sum(timestep) >= 3"
   ]
  },
  {
   "cell_type": "code",
   "execution_count": 8,
   "id": "711d5b88",
   "metadata": {},
   "outputs": [],
   "source": [
    "def different_enough(timestep_1, timestep_2, min_new_notes=2):\n",
    "    ''' Two chords are different enough if neither is a subset of the other, and there are at least\n",
    "        min_new_notes in the second chord '''\n",
    "    if timestep_1 is None:\n",
    "        return True\n",
    "    notes_in_1 = set(np.where(timestep_1 == 1)[0])\n",
    "    notes_in_2 = set(np.where(timestep_2 == 1)[0])\n",
    "    # One can't be subset of another\n",
    "    is_subset = notes_in_1.issubset(notes_in_2) or notes_in_2.issubset(notes_in_1)\n",
    "    new_notes = notes_in_2.difference(notes_in_1)\n",
    "    return not is_subset and len(new_notes) >= min_new_notes"
   ]
  },
  {
   "cell_type": "code",
   "execution_count": 9,
   "id": "fb3cabd3",
   "metadata": {},
   "outputs": [],
   "source": [
    "def get_chords(arr):\n",
    "    ''' Convert a whole piano roll into different-enough timesteps '''\n",
    "    last_chord = None\n",
    "    chords = []\n",
    "    for i, timestep in enumerate(arr):\n",
    "        if is_valid_chord(timestep) and different_enough(last_chord, timestep):\n",
    "            chords.append(timestep)\n",
    "            last_chord = timestep\n",
    "    return np.array(chords)"
   ]
  },
  {
   "cell_type": "code",
   "execution_count": 10,
   "id": "737b859e",
   "metadata": {},
   "outputs": [],
   "source": [
    "chords = get_chords(arr)"
   ]
  },
  {
   "cell_type": "markdown",
   "id": "3e04155d",
   "metadata": {},
   "source": [
    "Visualize an example:"
   ]
  },
  {
   "cell_type": "code",
   "execution_count": 11,
   "id": "c5d403da",
   "metadata": {},
   "outputs": [
    {
     "data": {
      "image/png": "[encoded data removed]",
      "text/plain": [
       "<PIL.Image.Image image mode=L size=307x36>"
      ]
     },
     "execution_count": 11,
     "metadata": {},
     "output_type": "execute_result"
    }
   ],
   "source": [
    "Image.fromarray(chords[:1000].astype(np.uint8).T * 255)"
   ]
  },
  {
   "cell_type": "markdown",
   "id": "66bc4402",
   "metadata": {},
   "source": [
    "### Code from `06-midi-processing.ipynb`"
   ]
  },
  {
   "cell_type": "code",
   "execution_count": 14,
   "id": "8fd8a948",
   "metadata": {},
   "outputs": [],
   "source": [
    "index_to_step = ['C', 'D-', 'D', 'E-', 'E', 'F', 'G-', 'G', 'A-', 'A', 'B-', 'B', ]\n",
    "\n",
    "def pitch_index_to_pitch_str(pitch_index):\n",
    "    pitch_index += 9\n",
    "    return index_to_step[pitch_index % 12] + str(pitch_index // 12)"
   ]
  },
  {
   "cell_type": "code",
   "execution_count": 15,
   "id": "1d57545c",
   "metadata": {},
   "outputs": [],
   "source": [
    "def arr_to_midi(arr, savepath):\n",
    "    score = stream.Score()\n",
    "    for i, timestep in enumerate(arr):\n",
    "        notes = np.where(timestep == 1)[0]\n",
    "        notes_str = [pitch_index_to_pitch_str(idx + 27) for idx in notes]\n",
    "        chord_ = chord.Chord(notes_str)\n",
    "        chord_.duration = duration.Duration('quarter')\n",
    "        chord_.offset = i\n",
    "        score.append(chord_)\n",
    "    score.write('midi', savepath)"
   ]
  },
  {
   "cell_type": "markdown",
   "id": "67c922f0",
   "metadata": {},
   "source": [
    "### Save chordified versions as numpy"
   ]
  },
  {
   "cell_type": "code",
   "execution_count": 16,
   "id": "eeab06f5",
   "metadata": {},
   "outputs": [
    {
     "name": "stderr",
     "output_type": "stream",
     "text": [
      "100%|█████████████████████████████████████████████████████████████████████████████████████████████████████████████████| 3408/3408 [04:35<00:00, 12.39it/s]\n"
     ]
    }
   ],
   "source": [
    "for file in tqdm(NP_FILES):\n",
    "    arr = np.load(file)\n",
    "    chords = get_chords(arr)\n",
    "    np.save(NP_CHORDS / file.name, chords)"
   ]
  },
  {
   "cell_type": "markdown",
   "id": "79ffab44",
   "metadata": {},
   "source": [
    "### Create combined (big) numpy file of all tracks for analysis"
   ]
  },
  {
   "cell_type": "code",
   "execution_count": 19,
   "id": "e5dc529d",
   "metadata": {},
   "outputs": [
    {
     "name": "stderr",
     "output_type": "stream",
     "text": [
      "100%|███████████████████████████████████████████████████████████████████████████████████████████████████████████████| 3408/3408 [00:02<00:00, 1226.94it/s]\n",
      "100%|███████████████████████████████████████████████████████████████████████████████████████████████████████████████| 3408/3408 [00:01<00:00, 2879.59it/s]\n"
     ]
    }
   ],
   "source": [
    "total_length = 0\n",
    "for chord_file in tqdm(os.listdir(NP_CHORDS)):\n",
    "    arr = np.load(NP_CHORDS / chord_file)\n",
    "    total_length += len(arr)\n",
    "combined = np.zeros((total_length, 36))\n",
    "i = 0\n",
    "for chord_file in tqdm(os.listdir(NP_CHORDS)):\n",
    "    arr = np.load(NP_CHORDS / chord_file)\n",
    "    combined[i:i+len(arr),:] = arr\n",
    "    i += len(arr)"
   ]
  },
  {
   "cell_type": "code",
   "execution_count": 21,
   "id": "da05b452",
   "metadata": {},
   "outputs": [],
   "source": [
    "combined = np.array(combined, dtype=np.uint8)"
   ]
  },
  {
   "cell_type": "code",
   "execution_count": 22,
   "id": "fab0e6f2",
   "metadata": {},
   "outputs": [
    {
     "data": {
      "text/plain": [
       "(796200, 36)"
      ]
     },
     "execution_count": 22,
     "metadata": {},
     "output_type": "execute_result"
    }
   ],
   "source": [
    "combined.shape"
   ]
  },
  {
   "cell_type": "markdown",
   "id": "839e3b8c",
   "metadata": {},
   "source": [
    "Save and load for future reference"
   ]
  },
  {
   "cell_type": "code",
   "execution_count": 24,
   "id": "71fb008e",
   "metadata": {},
   "outputs": [],
   "source": [
    "np.save('combined/chords_augmented.npy', combined)"
   ]
  },
  {
   "cell_type": "code",
   "execution_count": 12,
   "id": "640e4da6",
   "metadata": {},
   "outputs": [],
   "source": [
    "combined = np.load('combined/chords_augmented.npy')"
   ]
  },
  {
   "cell_type": "markdown",
   "id": "21d5499c",
   "metadata": {},
   "source": [
    "Convert to text for statistical analysis"
   ]
  },
  {
   "cell_type": "code",
   "execution_count": 14,
   "id": "e1f0f008",
   "metadata": {},
   "outputs": [
    {
     "name": "stderr",
     "output_type": "stream",
     "text": [
      "100%|█████████████████████████████████████████████████████████████████████████████████████████| 796200/796200 [00:21<00:00, 36753.76it/s]\n"
     ]
    }
   ],
   "source": [
    "txtified = [''.join([str(x) for x in row]) for row in tqdm(combined)]"
   ]
  },
  {
   "cell_type": "markdown",
   "id": "f432071f",
   "metadata": {},
   "source": [
    "Now we'll count the frequency of the tokens and analyze its distribution."
   ]
  },
  {
   "cell_type": "code",
   "execution_count": 15,
   "id": "9e922d9b",
   "metadata": {},
   "outputs": [],
   "source": [
    "c = Counter(txtified)"
   ]
  },
  {
   "cell_type": "code",
   "execution_count": 16,
   "id": "3c9378fc",
   "metadata": {},
   "outputs": [],
   "source": [
    "tft = sorted(list(dict(c).items()), key=lambda x: -x[1])"
   ]
  },
  {
   "cell_type": "code",
   "execution_count": 18,
   "id": "35f46d6c",
   "metadata": {},
   "outputs": [
    {
     "data": {
      "image/png": "[encoded data removed]",
      "text/plain": [
       "<Figure size 640x480 with 1 Axes>"
      ]
     },
     "metadata": {
      "image/png": {
       "height": 427,
       "width": 569
      },
      "needs_background": "light"
     },
     "output_type": "display_data"
    }
   ],
   "source": [
    "val = np.arange(len(tft))\n",
    "weight = [pair[1] for pair in tft]\n",
    "figure(figsize=(8, 6), dpi=80)\n",
    "plt.hist(val, weights=weight, bins=200)\n",
    "plt.xlabel('nth most frequent word')\n",
    "plt.ylabel('frequency')\n",
    "plt.title('Token frequency distribution')\n",
    "plt.show()"
   ]
  },
  {
   "cell_type": "markdown",
   "id": "f246c0a7",
   "metadata": {},
   "source": [
    "Looking at the distribution above, we can choose an appropriate vocabulary size. For the `augmented` dataset, 8000 seems to be a good cutoff."
   ]
  },
  {
   "cell_type": "code",
   "execution_count": 19,
   "id": "4a1d9a37",
   "metadata": {},
   "outputs": [],
   "source": [
    "vocab_size = 8000"
   ]
  },
  {
   "cell_type": "code",
   "execution_count": 46,
   "id": "08143e92",
   "metadata": {},
   "outputs": [],
   "source": [
    "# Get most common words\n",
    "common = [tok[0] for tok in tft[:vocab_size]]"
   ]
  },
  {
   "cell_type": "markdown",
   "id": "a87b3949",
   "metadata": {},
   "source": [
    "Save and load common words as txt file for future use"
   ]
  },
  {
   "cell_type": "code",
   "execution_count": 21,
   "id": "a1efc5e7",
   "metadata": {},
   "outputs": [],
   "source": [
    "suffix = '_aug'"
   ]
  },
  {
   "cell_type": "code",
   "execution_count": 47,
   "id": "f51c47f8",
   "metadata": {},
   "outputs": [],
   "source": [
    "with open(f'top_{vocab_size}{suffix}.txt', 'w') as f:\n",
    "    f.write('\\n'.join(common))"
   ]
  },
  {
   "cell_type": "code",
   "execution_count": 22,
   "id": "6eeb9f68",
   "metadata": {},
   "outputs": [],
   "source": [
    "with open(f'top_{vocab_size}{suffix}.txt', 'r') as f:\n",
    "    common = f.read().split('\\n')"
   ]
  },
  {
   "cell_type": "code",
   "execution_count": 23,
   "id": "b43ab024",
   "metadata": {},
   "outputs": [],
   "source": [
    "def is_subset(string_1, string_2):\n",
    "    for char_1, char_2 in zip(string_1, string_2):\n",
    "        if char_1 == '1' and char_2 == '0':\n",
    "            return False\n",
    "    return True"
   ]
  },
  {
   "cell_type": "code",
   "execution_count": 24,
   "id": "930bfacc",
   "metadata": {},
   "outputs": [],
   "source": [
    "def get_alternative(string, common):\n",
    "    ''' Given a string and the common tokens, propose an alternative '''\n",
    "    alternatives = [s for s in common if is_subset(s, string)]\n",
    "    if not alternatives:\n",
    "        return None\n",
    "    # Choose randomly if there are multiple\n",
    "    idx = int(random.random() * len(alternatives))\n",
    "    return alternatives[idx]"
   ]
  },
  {
   "cell_type": "markdown",
   "id": "fefb8a11",
   "metadata": {},
   "source": [
    "## Reduce vocabulary size with subset trick and save to txt files"
   ]
  },
  {
   "cell_type": "code",
   "execution_count": 26,
   "id": "a54f06ef",
   "metadata": {},
   "outputs": [],
   "source": [
    "CHORDS_TXT_CLEANED_DIR = Path('chords-txt-augmented/')\n",
    "CHORDS_TXT_CLEANED_DIR.mkdir(exist_ok=True)"
   ]
  },
  {
   "cell_type": "code",
   "execution_count": null,
   "id": "e19b4fba",
   "metadata": {},
   "outputs": [],
   "source": [
    "for chord_file in tqdm(os.listdir(NP_CHORDS)):\n",
    "    arr = np.load(NP_CHORDS / chord_file)\n",
    "    txtified = [''.join([str(x) for x in row]) for row in arr]\n",
    "    cleaned = []\n",
    "    for tok in txtified:\n",
    "        if tok not in common:\n",
    "            alternative = get_alternative(tok, common)\n",
    "            if not alternative:\n",
    "                cleaned.append(tok)\n",
    "            else:\n",
    "                cleaned.append(alternative)\n",
    "        else:\n",
    "            cleaned.append(tok)\n",
    "    cleaned_str = ' '.join(cleaned) + ' '\n",
    "    cleaned_str = re.sub(r'(\\w+? )\\1+', r'\\1', cleaned_str)\n",
    "    with open(CHORDS_TXT_CLEANED_DIR / f\"{chord_file[:-4]}.txt\", 'w') as f:\n",
    "        f.write(cleaned_str)"
   ]
  },
  {
   "cell_type": "markdown",
   "id": "69e78db6",
   "metadata": {},
   "source": [
    "### Calculate percent of tokens that cannot be represented by a common token"
   ]
  },
  {
   "cell_type": "code",
   "execution_count": 27,
   "id": "3671a47c",
   "metadata": {},
   "outputs": [
    {
     "name": "stderr",
     "output_type": "stream",
     "text": [
      "100%|████████████████████████████████████████████████████████████████████████████████████████████████| 3408/3408 [01:10<00:00, 48.31it/s]\n"
     ]
    }
   ],
   "source": [
    "unk_count = 0\n",
    "total_count = 0\n",
    "for chord_file in tqdm(os.listdir(CHORDS_TXT_CLEANED_DIR)):\n",
    "    chords = open(CHORDS_TXT_CLEANED_DIR / chord_file, 'r').read().split()\n",
    "    for chord in chords:\n",
    "        if chord not in common:\n",
    "            unk_count += 1\n",
    "    total_count += len(chords)"
   ]
  },
  {
   "cell_type": "code",
   "execution_count": 28,
   "id": "79c722e9",
   "metadata": {},
   "outputs": [
    {
     "name": "stdout",
     "output_type": "stream",
     "text": [
      "Proportion unknown: 0.007196211406347835 (5712/793751)\n"
     ]
    }
   ],
   "source": [
    "print(f'Proportion unknown: {unk_count / total_count} ({unk_count}/{total_count})')"
   ]
  }
 ],
 "metadata": {
  "kernelspec": {
   "display_name": "Python 3 (ipykernel)",
   "language": "python",
   "name": "python3"
  },
  "language_info": {
   "codemirror_mode": {
    "name": "ipython",
    "version": 3
   },
   "file_extension": ".py",
   "mimetype": "text/x-python",
   "name": "python",
   "nbconvert_exporter": "python",
   "pygments_lexer": "ipython3",
   "version": "3.7.0"
  }
 },
 "nbformat": 4,
 "nbformat_minor": 5
}
