{
 "cells": [
  {
   "cell_type": "markdown",
   "id": "3fe468a0",
   "metadata": {},
   "source": [
    "## 1. Clean Wilding Chords Dataset\n",
    "To perform word2vec, we first must extract the chords from the dataset. The original `.txt` can be found and downloaded [here](http://jazzparser.granroth-wilding.co.uk/attachments/JazzCorpus/chord_corpus.txt)."
   ]
  },
  {
   "cell_type": "code",
   "execution_count": 17,
   "id": "5ba84517",
   "metadata": {},
   "outputs": [],
   "source": [
    "from pathlib import Path\n",
    "import re"
   ]
  },
  {
   "cell_type": "code",
   "execution_count": 6,
   "id": "ff2237f3",
   "metadata": {},
   "outputs": [],
   "source": [
    "CORPUS_FILEPATH = Path('wilding-corpus.txt')"
   ]
  },
  {
   "cell_type": "code",
   "execution_count": 7,
   "id": "d00d6e86",
   "metadata": {},
   "outputs": [],
   "source": [
    "corpus = open(CORPUS_FILEPATH, 'r').read()"
   ]
  },
  {
   "cell_type": "code",
   "execution_count": 8,
   "id": "e76377e2",
   "metadata": {},
   "outputs": [],
   "source": [
    "# Define constants\n",
    "KEYS = [\"A\", \"Bb\", \"B\", \"C\", \"Db\", \"D\", \"Eb\", \"E\", \"F\", \"Gb\", \"G\", \"Ab\"]\n",
    "MAIN_KEY_STRING = \"Main key: \"\n",
    "MAJOR = 'major'"
   ]
  },
  {
   "cell_type": "code",
   "execution_count": 19,
   "id": "2add7252",
   "metadata": {},
   "outputs": [],
   "source": [
    "def parse_chord_symbol(symbol):\n",
    "    ''' Split a chord symbol into the root and quality '''\n",
    "    if len(symbol) == 1:\n",
    "        return symbol, \"M\"\n",
    "    if symbol[1] == 'b':\n",
    "        return symbol[:2], symbol[2:]\n",
    "    else:\n",
    "        return symbol[0], symbol[1:]"
   ]
  },
  {
   "cell_type": "code",
   "execution_count": 20,
   "id": "d17b45f3",
   "metadata": {},
   "outputs": [],
   "source": [
    "def transpose_chord(symbol, amount):\n",
    "    ''' Transpose a single chord by a given amount '''\n",
    "    root, quality = parse_chord_symbol(symbol)\n",
    "    key_index = KEYS.index(root)\n",
    "    return KEYS[(key_index + amount) % len(KEYS)] + quality\n",
    "\n",
    "def transpose_chords(symbols, amount):\n",
    "    return [transpose_chord(symbol, amount) for symbol in symbols]"
   ]
  },
  {
   "cell_type": "code",
   "execution_count": 21,
   "id": "008e155f",
   "metadata": {},
   "outputs": [],
   "source": [
    "def parse_corpus(corpus_txt):\n",
    "    ''' Parse the raw txt file into a list of chords '''\n",
    "    corpus_txt = re.sub(' +', ' ', corpus_txt)\n",
    "    sequence_separator = re.compile(\"Chords for '.*?'\")\n",
    "    sequences = sequence_separator.split(corpus_txt)[1:]\n",
    "    sequences = [s.strip() for s in sequences]\n",
    "    chords_corpus = []\n",
    "    for sequence in sequences:\n",
    "        sequence_lines = sequence.split('\\n')\n",
    "        assert sequence_lines[0][:len(MAIN_KEY_STRING)] == MAIN_KEY_STRING\n",
    "        key = sequence_lines[0][len(MAIN_KEY_STRING):].split()\n",
    "        is_major = len(key) == 1 or key[1] == MAJOR\n",
    "        chords = sequence_lines[2].split()\n",
    "        if not is_major:\n",
    "            chords = transpose_chords(chords, -3)\n",
    "        chords_corpus.append(chords)\n",
    "    return chords_corpus"
   ]
  },
  {
   "cell_type": "code",
   "execution_count": 23,
   "id": "84f4120e",
   "metadata": {},
   "outputs": [],
   "source": [
    "def write_chords_to_file(all_chords):\n",
    "    ''' Save chords to file (space-separated and line-separated) '''\n",
    "    with open('chords.txt', 'w') as f:\n",
    "        for chords in all_chords:\n",
    "            f.write(f\"{' '.join(chords)}\\n\")"
   ]
  },
  {
   "cell_type": "code",
   "execution_count": 24,
   "id": "cbc3d6c1",
   "metadata": {},
   "outputs": [],
   "source": [
    "# Parse corpus\n",
    "chords_corpus = parse_corpus(corpus)"
   ]
  },
  {
   "cell_type": "markdown",
   "id": "5596d5c4",
   "metadata": {},
   "source": [
    "Let's take a look at some chords from the first tune:"
   ]
  },
  {
   "cell_type": "code",
   "execution_count": 27,
   "id": "66c5206f",
   "metadata": {},
   "outputs": [
    {
     "data": {
      "text/plain": [
       "['Am', 'Dm7', 'E7', 'Am', 'A7', 'Dm7', 'G7', 'CM7', 'FM7', 'B%7']"
      ]
     },
     "execution_count": 27,
     "metadata": {},
     "output_type": "execute_result"
    }
   ],
   "source": [
    "chords_corpus[0][:10]"
   ]
  },
  {
   "cell_type": "code",
   "execution_count": 25,
   "id": "13cec9ff",
   "metadata": {},
   "outputs": [],
   "source": [
    "# Save corpus\n",
    "write_chords_to_file(chords_corpus)"
   ]
  }
 ],
 "metadata": {
  "kernelspec": {
   "display_name": "Python 3 (ipykernel)",
   "language": "python",
   "name": "python3"
  },
  "language_info": {
   "codemirror_mode": {
    "name": "ipython",
    "version": 3
   },
   "file_extension": ".py",
   "mimetype": "text/x-python",
   "name": "python",
   "nbconvert_exporter": "python",
   "pygments_lexer": "ipython3",
   "version": "3.7.0"
  }
 },
 "nbformat": 4,
 "nbformat_minor": 5
}
