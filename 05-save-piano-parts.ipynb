{
 "cells": [
  {
   "cell_type": "markdown",
   "id": "475aa3e3",
   "metadata": {},
   "source": [
    "## 5. Save piano parts from downloaded MIDI files\n",
    "\n",
    "This notebook iterates through the saved MIDI files and extracts only the piano parts. This notebook also does not need to be run to run the rest of the notebooks."
   ]
  },
  {
   "cell_type": "code",
   "execution_count": 16,
   "id": "c6bda3e9",
   "metadata": {},
   "outputs": [],
   "source": [
    "from music21 import converter, instrument\n",
    "from pathlib import Path\n",
    "import os\n",
    "from tqdm import tqdm"
   ]
  },
  {
   "cell_type": "code",
   "execution_count": 17,
   "id": "8197361d",
   "metadata": {},
   "outputs": [],
   "source": [
    "MIDI_DIR = Path('midi/')\n",
    "PIANO_MIDI_DIR = Path('piano-midi/')\n",
    "MIDI_FILES = [MIDI_DIR / file for file in os.listdir(MIDI_DIR)]\n",
    "PIANO_ABBR = 'Pno'\n",
    "PIANO_MIDI_DIR.mkdir(exist_ok=True)"
   ]
  },
  {
   "cell_type": "code",
   "execution_count": 20,
   "id": "95c03962",
   "metadata": {},
   "outputs": [],
   "source": [
    "def get_piano_parts_from_midi(midi_file, ignore_warnings=False):\n",
    "    score = converter.parse(midi_file)\n",
    "    parts = list(score.parts)\n",
    "    if len(parts) == 1:\n",
    "        return [parts[0]]\n",
    "    else:\n",
    "        piano_parts = []\n",
    "        for part in instrument.partitionByInstrument(score):\n",
    "            if isinstance(part.getInstrument(), instrument.Piano) and len(list(part.flat)) > 20:\n",
    "                piano_parts.append(part)\n",
    "        return piano_parts"
   ]
  },
  {
   "cell_type": "code",
   "execution_count": null,
   "id": "89314c35",
   "metadata": {
    "scrolled": false
   },
   "outputs": [
    {
     "name": "stdout",
     "output_type": "stream",
     "text": [
      "(1/307) if-i-loved-you.mid\n",
      "(2/307) Goin'_Home_(Real_Time)_(Antonin_Dvorak).mid\n",
      "(3/307) What-is-there-to-say.mid\n",
      "(4/307) dearlybeloved.mid\n",
      "(5/307) shinystockings.mid\n",
      "(6/307) Pick-yourself.mid\n"
     ]
    }
   ],
   "source": [
    "for i, midi_file in enumerate(MIDI_FILES):\n",
    "    print(f\"({i + 1}/{len(MIDI_FILES)}) {midi_file.name}\")\n",
    "    piano_parts = get_piano_parts_from_midi(midi_file)\n",
    "    if not piano_parts:\n",
    "        continue\n",
    "    for i, piano_part in enumerate(piano_parts):\n",
    "        filename = f\"{midi_file.name.split('.')[0]}_piano_{i}.mid\" if len(piano_parts) > 1 else midi_file.name\n",
    "        piano_part.write('midi', fp=PIANO_MIDI_DIR / filename)"
   ]
  }
 ],
 "metadata": {
  "kernelspec": {
   "display_name": "Python 3 (ipykernel)",
   "language": "python",
   "name": "python3"
  },
  "language_info": {
   "codemirror_mode": {
    "name": "ipython",
    "version": 3
   },
   "file_extension": ".py",
   "mimetype": "text/x-python",
   "name": "python",
   "nbconvert_exporter": "python",
   "pygments_lexer": "ipython3",
   "version": "3.7.0"
  }
 },
 "nbformat": 4,
 "nbformat_minor": 5
}
