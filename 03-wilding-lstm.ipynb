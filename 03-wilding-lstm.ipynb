{
 "cells": [
  {
   "cell_type": "markdown",
   "id": "91c5b7c5",
   "metadata": {},
   "source": [
    "## 3. Fitting an LSTM to the Wilding chord dataset\n",
    "\n",
    "Despite the chord embeddings not looking too promising, we'll use them as the featurization layer for an LSTM."
   ]
  },
  {
   "cell_type": "code",
   "execution_count": 40,
   "id": "fd969885",
   "metadata": {},
   "outputs": [],
   "source": [
    "import tensorflow as tf\n",
    "from tensorflow.keras.models import Sequential\n",
    "from tensorflow.keras.layers import Dropout, Embedding, Dense, LSTM, Input\n",
    "from tensorflow.keras.callbacks import EarlyStopping\n",
    "import numpy as np\n",
    "import matplotlib.pyplot as plt"
   ]
  },
  {
   "cell_type": "markdown",
   "id": "a45e0e96",
   "metadata": {},
   "source": [
    "We'll define a vectorizer that will make it easier to vectorize raw chord inputs."
   ]
  },
  {
   "cell_type": "code",
   "execution_count": 3,
   "id": "da08b053",
   "metadata": {},
   "outputs": [],
   "source": [
    "class ChordVectorizer():\n",
    "    def __init__(self, vectors='vectors.tsv', metadata='metadata.tsv'):\n",
    "        vectors = open(vectors, 'r').read().split('\\n')\n",
    "        self.vectors = np.array([np.array([float(x) for x in vector.split('\\t')]) for vector in vectors if vector])\n",
    "        metadata = open(metadata, 'r').read().split('\\n')\n",
    "        self.metadata = [label for label in metadata if label]\n",
    "        self.mapping = {k:v for k, v in zip(self.metadata, self.vectors)}\n",
    "        \n",
    "    def __call__(self, sequence):\n",
    "        return np.array([self.tokenize_one(item) for item in sequence])\n",
    "        \n",
    "    def tokenize_one(self, item):\n",
    "        return self.mapping[item] if item in self.mapping else self.mapping['[UNK]']\n",
    "    \n",
    "    def encode_one(self, item):\n",
    "        return self.metadata.index(item) if item in self.metadata else 0\n",
    "    \n",
    "    def encode(self, sequence):\n",
    "        return np.array([self.encode_one(item) for item in sequence])\n",
    "    \n",
    "    def decode_one(self, item):\n",
    "        return self.metadata[item]"
   ]
  },
  {
   "cell_type": "code",
   "execution_count": 4,
   "id": "21a27c99",
   "metadata": {},
   "outputs": [],
   "source": [
    "corpus = open('chords.txt', 'r').read()"
   ]
  },
  {
   "cell_type": "code",
   "execution_count": 5,
   "id": "5b915a2a",
   "metadata": {},
   "outputs": [],
   "source": [
    "progressions = corpus.split('\\n')\n",
    "progressions = [progression.split() for progression in progressions]"
   ]
  },
  {
   "cell_type": "code",
   "execution_count": 6,
   "id": "05b167ec",
   "metadata": {},
   "outputs": [],
   "source": [
    "cv = ChordVectorizer(vectors='embeddings/wilding-w2v/embedding.tsv', metadata='embeddings/wilding-w2v/vocab.tsv')"
   ]
  },
  {
   "cell_type": "code",
   "execution_count": 7,
   "id": "3d5b0f3d",
   "metadata": {},
   "outputs": [],
   "source": [
    "progressions_vectorized = [cv(progression) for progression in progressions]"
   ]
  },
  {
   "cell_type": "markdown",
   "id": "c2d0208d",
   "metadata": {},
   "source": [
    "Let's print out the shape of the first chord progression. It's a sequence of 70 chords, each with an embedding of 128 dimensions."
   ]
  },
  {
   "cell_type": "code",
   "execution_count": 26,
   "id": "06245d10",
   "metadata": {},
   "outputs": [
    {
     "data": {
      "text/plain": [
       "(70, 128)"
      ]
     },
     "execution_count": 26,
     "metadata": {},
     "output_type": "execute_result"
    }
   ],
   "source": [
    "progressions_vectorized[0].shape"
   ]
  },
  {
   "cell_type": "code",
   "execution_count": 27,
   "id": "88602b14",
   "metadata": {},
   "outputs": [],
   "source": [
    "def onehot(x, shape):\n",
    "    res = np.zeros(shape, dtype=np.uint8)\n",
    "    res[x] = 1\n",
    "    return res"
   ]
  },
  {
   "cell_type": "markdown",
   "id": "cf81dbed",
   "metadata": {},
   "source": [
    "This function will create vectors of contexts (preceding chord embeddings) and targets (the target chord that follows them). We'll choose a context length of 5."
   ]
  },
  {
   "cell_type": "code",
   "execution_count": 31,
   "id": "39eeab49",
   "metadata": {},
   "outputs": [],
   "source": [
    "def create_context_target_pairs(progressions, chord_vectorizer, context_length=5):\n",
    "    progressions_vectorized = [chord_vectorizer(progression) for progression in progressions]\n",
    "    vocab_size = len(chord_vectorizer.mapping)\n",
    "    contexts = []\n",
    "    targets = []\n",
    "    for p_v, p in zip(progressions_vectorized, progressions):\n",
    "        for i in range(len(p)):\n",
    "            target = chord_vectorizer.encode_one(p[i])\n",
    "            context = p_v[max(0, i - context_length):i]\n",
    "            context_np = np.zeros((context_length, 128))\n",
    "            context_np[5-len(context):] = context\n",
    "            contexts.append(context_np)\n",
    "            targets.append(onehot(target, vocab_size))\n",
    "    return np.array(contexts), np.array(targets)"
   ]
  },
  {
   "cell_type": "code",
   "execution_count": 32,
   "id": "9b232a8a",
   "metadata": {},
   "outputs": [],
   "source": [
    "contexts, targets = create_context_target_pairs(progressions, cv)"
   ]
  },
  {
   "cell_type": "code",
   "execution_count": 33,
   "id": "b830151d",
   "metadata": {},
   "outputs": [
    {
     "data": {
      "text/plain": [
       "(3084, 5, 128)"
      ]
     },
     "execution_count": 33,
     "metadata": {},
     "output_type": "execute_result"
    }
   ],
   "source": [
    "contexts.shape"
   ]
  },
  {
   "cell_type": "markdown",
   "id": "c4b73424",
   "metadata": {},
   "source": [
    "## Define LSTM model\n",
    "\n",
    "We'll define a minimal stacked LSTM with two LSTM layers, dropout, and no feed-forward layers. This will serve as a baseline and be faster to train and iterate."
   ]
  },
  {
   "cell_type": "code",
   "execution_count": 34,
   "id": "27d31d9e",
   "metadata": {},
   "outputs": [],
   "source": [
    "def defineModel(input_shape, vocab_size):\n",
    "    model = Sequential()\n",
    "    model.add(Input(shape=input_shape))\n",
    "    model.add(LSTM(128, return_sequences=True))\n",
    "    model.add(Dropout(0.3))\n",
    "    model.add(LSTM(64))\n",
    "    model.add(Dropout(0.3))\n",
    "    model.add(Dense(vocab_size, activation='softmax'))\n",
    "    model.compile(optimizer='adam', loss='categorical_crossentropy', metrics=['accuracy'])\n",
    "    return model"
   ]
  },
  {
   "cell_type": "code",
   "execution_count": 35,
   "id": "810d2d54",
   "metadata": {},
   "outputs": [],
   "source": [
    "model = defineModel(input_shape=contexts[0].shape, vocab_size=len(cv.mapping))"
   ]
  },
  {
   "cell_type": "code",
   "execution_count": 36,
   "id": "da9826f5",
   "metadata": {},
   "outputs": [
    {
     "name": "stdout",
     "output_type": "stream",
     "text": [
      "Model: \"sequential_1\"\n",
      "_________________________________________________________________\n",
      " Layer (type)                Output Shape              Param #   \n",
      "=================================================================\n",
      " lstm_2 (LSTM)               (None, 5, 128)            131584    \n",
      "                                                                 \n",
      " dropout_2 (Dropout)         (None, 5, 128)            0         \n",
      "                                                                 \n",
      " lstm_3 (LSTM)               (None, 64)                49408     \n",
      "                                                                 \n",
      " dropout_3 (Dropout)         (None, 64)                0         \n",
      "                                                                 \n",
      " dense_1 (Dense)             (None, 101)               6565      \n",
      "                                                                 \n",
      "=================================================================\n",
      "Total params: 187,557\n",
      "Trainable params: 187,557\n",
      "Non-trainable params: 0\n",
      "_________________________________________________________________\n"
     ]
    }
   ],
   "source": [
    "model.summary()"
   ]
  },
  {
   "cell_type": "markdown",
   "id": "1c01a9ff",
   "metadata": {},
   "source": [
    "We'll stop early if the validation loss hasn't increased in 5 epochs."
   ]
  },
  {
   "cell_type": "code",
   "execution_count": 37,
   "id": "1697da00",
   "metadata": {},
   "outputs": [],
   "source": [
    "early_stopping = EarlyStopping(monitor='val_loss', patience=5)"
   ]
  },
  {
   "cell_type": "code",
   "execution_count": 38,
   "id": "7ede0623",
   "metadata": {
    "scrolled": true
   },
   "outputs": [
    {
     "name": "stdout",
     "output_type": "stream",
     "text": [
      "Epoch 1/50\n",
      "87/87 [==============================] - 5s 24ms/step - loss: 3.8963 - accuracy: 0.0872 - val_loss: 3.7242 - val_accuracy: 0.1262\n",
      "Epoch 2/50\n",
      "87/87 [==============================] - 1s 13ms/step - loss: 3.4920 - accuracy: 0.1240 - val_loss: 3.6660 - val_accuracy: 0.1489\n",
      "Epoch 3/50\n",
      "87/87 [==============================] - 2s 21ms/step - loss: 3.3567 - accuracy: 0.1654 - val_loss: 3.5329 - val_accuracy: 0.2524\n",
      "Epoch 4/50\n",
      "87/87 [==============================] - 2s 23ms/step - loss: 3.2115 - accuracy: 0.2097 - val_loss: 3.4079 - val_accuracy: 0.2557\n",
      "Epoch 5/50\n",
      "87/87 [==============================] - 2s 21ms/step - loss: 3.0943 - accuracy: 0.2375 - val_loss: 3.3612 - val_accuracy: 0.2524\n",
      "Epoch 6/50\n",
      "87/87 [==============================] - 2s 23ms/step - loss: 3.0066 - accuracy: 0.2605 - val_loss: 3.3301 - val_accuracy: 0.2621\n",
      "Epoch 7/50\n",
      "87/87 [==============================] - 2s 27ms/step - loss: 2.9066 - accuracy: 0.2735 - val_loss: 3.3515 - val_accuracy: 0.2816\n",
      "Epoch 8/50\n",
      "87/87 [==============================] - 2s 25ms/step - loss: 2.8559 - accuracy: 0.2951 - val_loss: 3.2294 - val_accuracy: 0.3333\n",
      "Epoch 9/50\n",
      "87/87 [==============================] - 2s 25ms/step - loss: 2.7825 - accuracy: 0.3168 - val_loss: 3.2140 - val_accuracy: 0.3172\n",
      "Epoch 10/50\n",
      "87/87 [==============================] - 2s 22ms/step - loss: 2.7043 - accuracy: 0.3294 - val_loss: 3.2591 - val_accuracy: 0.3204\n",
      "Epoch 11/50\n",
      "87/87 [==============================] - 2s 20ms/step - loss: 2.6584 - accuracy: 0.3391 - val_loss: 3.2051 - val_accuracy: 0.3366\n",
      "Epoch 12/50\n",
      "87/87 [==============================] - 2s 19ms/step - loss: 2.5893 - accuracy: 0.3550 - val_loss: 3.1838 - val_accuracy: 0.3528\n",
      "Epoch 13/50\n",
      "87/87 [==============================] - 2s 19ms/step - loss: 2.5274 - accuracy: 0.3604 - val_loss: 3.2085 - val_accuracy: 0.3172\n",
      "Epoch 14/50\n",
      "87/87 [==============================] - 2s 18ms/step - loss: 2.4882 - accuracy: 0.3694 - val_loss: 3.1911 - val_accuracy: 0.3139\n",
      "Epoch 15/50\n",
      "87/87 [==============================] - 2s 19ms/step - loss: 2.4354 - accuracy: 0.3895 - val_loss: 3.1826 - val_accuracy: 0.3592\n",
      "Epoch 16/50\n",
      "87/87 [==============================] - 2s 19ms/step - loss: 2.3696 - accuracy: 0.4000 - val_loss: 3.1661 - val_accuracy: 0.3819\n",
      "Epoch 17/50\n",
      "87/87 [==============================] - 2s 20ms/step - loss: 2.3148 - accuracy: 0.4126 - val_loss: 3.0992 - val_accuracy: 0.3916\n",
      "Epoch 18/50\n",
      "87/87 [==============================] - 2s 21ms/step - loss: 2.2804 - accuracy: 0.4195 - val_loss: 3.1259 - val_accuracy: 0.3657\n",
      "Epoch 19/50\n",
      "87/87 [==============================] - 2s 21ms/step - loss: 2.2408 - accuracy: 0.4155 - val_loss: 3.1428 - val_accuracy: 0.3883\n",
      "Epoch 20/50\n",
      "87/87 [==============================] - 2s 24ms/step - loss: 2.1905 - accuracy: 0.4332 - val_loss: 3.1204 - val_accuracy: 0.3851\n",
      "Epoch 21/50\n",
      "87/87 [==============================] - 2s 24ms/step - loss: 2.1427 - accuracy: 0.4404 - val_loss: 3.1420 - val_accuracy: 0.3883\n",
      "Epoch 22/50\n",
      "87/87 [==============================] - 2s 23ms/step - loss: 2.0854 - accuracy: 0.4569 - val_loss: 3.1308 - val_accuracy: 0.4045\n"
     ]
    }
   ],
   "source": [
    "history = model.fit(x=contexts, y=targets, epochs=50, batch_size=32, validation_split=0.1, callbacks=[early_stopping])"
   ]
  },
  {
   "cell_type": "code",
   "execution_count": 39,
   "id": "5ebd736f",
   "metadata": {},
   "outputs": [],
   "source": [
    "def plot_history(history):\n",
    "    # summarize history for accuracy\n",
    "    plt.plot(history.history['accuracy'])\n",
    "    plt.plot(history.history['val_accuracy'])\n",
    "    plt.title('model accuracy')\n",
    "    plt.ylabel('accuracy')\n",
    "    plt.xlabel('epoch')\n",
    "    plt.legend(['train', 'test'], loc='upper left')\n",
    "    plt.show()\n",
    "    # summarize history for loss\n",
    "    plt.plot(history.history['loss'])\n",
    "    plt.plot(history.history['val_loss'])\n",
    "    plt.title('model loss')\n",
    "    plt.ylabel('loss')\n",
    "    plt.xlabel('epoch')\n",
    "    plt.legend(['train', 'test'], loc='upper left')\n",
    "    plt.show()"
   ]
  },
  {
   "cell_type": "code",
   "execution_count": 41,
   "id": "b4093a2a",
   "metadata": {},
   "outputs": [
    {
     "data": {
      "image/png": "[encoded data removed]",
      "text/plain": [
       "<Figure size 432x288 with 1 Axes>"
      ]
     },
     "metadata": {
      "needs_background": "light"
     },
     "output_type": "display_data"
    },
    {
     "data": {
      "image/png": "[encoded data removed]",
      "text/plain": [
       "<Figure size 432x288 with 1 Axes>"
      ]
     },
     "metadata": {
      "needs_background": "light"
     },
     "output_type": "display_data"
    }
   ],
   "source": [
    "plot_history(history)"
   ]
  },
  {
   "cell_type": "markdown",
   "id": "2e30a6c5",
   "metadata": {},
   "source": [
    "### Experiment with generation\n",
    "\n",
    "Now we'll casually inspect whether the generated outputs match some of our intuition for chord progressions. We'll use an example input of `D7 G Em A7 D7`. The progression `Em A7 D7` strongly implies a circle of fifths progression, so we would expect the next chord to be `G7`, which is also the implied tonic in this chord progression."
   ]
  },
  {
   "cell_type": "code",
   "execution_count": 53,
   "id": "8c66a297",
   "metadata": {},
   "outputs": [
    {
     "data": {
      "text/plain": [
       "'G7'"
      ]
     },
     "execution_count": 53,
     "metadata": {},
     "output_type": "execute_result"
    }
   ],
   "source": [
    "example_input = 'D7 G Em A7 D7'.split()\n",
    "vectorized = np.array([cv(example_input)])\n",
    "cv.decode_one(np.argmax(model.predict(vectorized)))"
   ]
  },
  {
   "cell_type": "markdown",
   "id": "20e4af9a",
   "metadata": {},
   "source": [
    "Great! Let's see what it predicts for the next chord in the sequence."
   ]
  },
  {
   "cell_type": "code",
   "execution_count": 54,
   "id": "4afe7f41",
   "metadata": {},
   "outputs": [
    {
     "data": {
      "text/plain": [
       "'C'"
      ]
     },
     "execution_count": 54,
     "metadata": {},
     "output_type": "execute_result"
    }
   ],
   "source": [
    "example_input = 'G Em A7 D7 G7'.split()\n",
    "vectorized = np.array([cv(example_input)])\n",
    "cv.decode_one(np.argmax(model.predict(vectorized)))"
   ]
  },
  {
   "cell_type": "markdown",
   "id": "98fe29ae",
   "metadata": {},
   "source": [
    "This makes sense as well, since `C` is the next chord in the circle of fifths.\n",
    "\n",
    "So, this model seems to make reasonable predictions, which means that the word embeddings still likely learned something about the role of chords in a progression. However, it's limited in that it can only use the previous five chords to make a prediction. Also, the amount of data in the original dataset is laughably small.\n",
    "\n",
    "Next, we'll switch to using a much larget MIDI dataset, and experiment with using GPT for chord generation!"
   ]
  }
 ],
 "metadata": {
  "kernelspec": {
   "display_name": "Python 3 (ipykernel)",
   "language": "python",
   "name": "python3"
  },
  "language_info": {
   "codemirror_mode": {
    "name": "ipython",
    "version": 3
   },
   "file_extension": ".py",
   "mimetype": "text/x-python",
   "name": "python",
   "nbconvert_exporter": "python",
   "pygments_lexer": "ipython3",
   "version": "3.7.0"
  }
 },
 "nbformat": 4,
 "nbformat_minor": 5
}
